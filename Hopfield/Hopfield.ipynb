{
 "cells": [
  {
   "cell_type": "code",
   "execution_count": 1,
   "metadata": {
    "collapsed": true
   },
   "outputs": [],
   "source": [
    "import random\n",
    "import numpy as np"
   ]
  },
  {
   "cell_type": "code",
   "execution_count": null,
   "metadata": {
    "collapsed": true
   },
   "outputs": [],
   "source": [
    "class Hopfield:\n",
    "    \n",
    "    def __init__(self, learn_speed, num_neurons):\n",
    "        \n",
    "        self.learn_speed = learn_speed\n",
    "        self.num_neurons = num_neurons\n",
    "        \n",
    "        self.weights = np.zeros((num_neurons, num_neurons))\n",
    "        \n",
    "        for i in range(0, num_neurons):\n",
    "            for x in range(0, num_neurons):\n",
    "                self.weights[i][x] = random.random()*2-1\n",
    "                \n",
    "    def feed_forward(self, )\n",
    "    \n",
    "    def activate(self, kind, num):\n",
    "        if kind == 'sigmoid':\n",
    "            sum = 1 / (1+np.exp(-num))\n",
    "        elif kind == 'step':\n",
    "            if num > 0:\n",
    "                return 1\n",
    "            return 0\n",
    "        \n",
    "        return sum"
   ]
  }
 ],
 "metadata": {
  "kernelspec": {
   "display_name": "Python 3",
   "language": "python",
   "name": "python3"
  },
  "language_info": {
   "codemirror_mode": {
    "name": "ipython",
    "version": 3
   },
   "file_extension": ".py",
   "mimetype": "text/x-python",
   "name": "python",
   "nbconvert_exporter": "python",
   "pygments_lexer": "ipython3",
   "version": "3.6.1"
  }
 },
 "nbformat": 4,
 "nbformat_minor": 2
}
