{
 "cells": [
  {
   "cell_type": "code",
   "execution_count": 5,
   "metadata": {
    "collapsed": true
   },
   "outputs": [],
   "source": [
    "import random\n",
    "import numpy as np"
   ]
  },
  {
   "cell_type": "code",
   "execution_count": 42,
   "metadata": {
    "collapsed": true
   },
   "outputs": [],
   "source": [
    "class Hopfield:\n",
    "    \n",
    "    def __init__(self, num_neurons):\n",
    "        self.num_neurons = num_neurons \n",
    "        self.weights = np.zeros((num_neurons, num_neurons))\n",
    "        self.iter = 0\n",
    "        \n",
    "    def feed_forward(self, inputs):\n",
    "        for i in range(0, self.num_neurons):\n",
    "            for j in range(0, self.num_neurons):\n",
    "                if not i == j:\n",
    "                    self.weights[i][j] += inputs[i] * inputs[j]\n",
    "#         self.weights = inputs.dot(inputs)\n",
    "    \n",
    "    def activate(self, num):\n",
    "        if num > 0:\n",
    "            return 1\n",
    "        return -1\n",
    "    \n",
    "    def train(self, inputs):\n",
    "        for i in inputs:\n",
    "            self.feed_forward(i)\n",
    "        \n",
    "    def predict(self, inputs):\n",
    "        result = inputs\n",
    "        while (self.iter < 20000):\n",
    "            for i in range(0, self.num_neurons):\n",
    "                for j in range(0, self.num_neurons):\n",
    "                    if not result[i] == self.weights[i][j]:\n",
    "                        continue\n",
    "            \n",
    "            sum = 0\n",
    "            r = random.choice(range(self.num_neurons))\n",
    "            for i in range(0, self.num_neurons):\n",
    "                sum += self.weights[i][r] * result[i]\n",
    "            result[r] = self.activate(sum)\n",
    "            \n",
    "            self.iter += 1\n",
    "        return result"
   ]
  },
  {
   "cell_type": "code",
   "execution_count": null,
   "metadata": {},
   "outputs": [],
   "source": [
    "reference1 = np.array([[0,1,1,1,1,1,0],\n",
    "                      [0,1,0,0,0,1,0],\n",
    "                      [0,1,0,0,0,1,0],\n",
    "                      [0,1,0,0,0,1,0],\n",
    "                      [0,1,0,0,0,1,0],\n",
    "                      [0,1,0,0,0,1,0],\n",
    "                      [0,1,0,0,0,1,0]])\n",
    "reference2 = np.array([[1,1,1,1,1,1,1],\n",
    "                      [0,0,0,1,0,0,0],\n",
    "                      [0,0,0,1,0,0,0],\n",
    "                      [0,0,0,1,0,0,0],\n",
    "                      [0,0,0,1,0,0,0],\n",
    "                      [0,0,0,1,0,0,0],\n",
    "                      [0,0,0,1,0,0,0]])\n",
    "reference3 = np.array([[1,0,0,0,0,0,1],\n",
    "                      [1,0,0,0,1,1,0],\n",
    "                      [1,0,0,1,0,0,0],\n",
    "                      [1,1,1,0,0,0,0],\n",
    "                      [1,0,0,1,0,0,0],\n",
    "                      [1,0,0,0,1,1,0],\n",
    "                      [1,0,0,0,0,0,1]])\n",
    "\n",
    "references = np.array([reference1, reference2, reference3])\n",
    "\n",
    "net_hopfield = Hopfield(7)\n",
    "net_hopfield.train(references)\n",
    "\n",
    "spoiled_reference = np.array([[1,1,0,0,0,0,0],\n",
    "                      [1,0,0,0,1,1,0],\n",
    "                      [1,0,0,1,0,0,0],\n",
    "                      [0,0,1,0,0,0,0],\n",
    "                      [1,0,0,1,0,0,0],\n",
    "                      [1,0,0,0,1,1,0],\n",
    "                      [1,1,0,0,0,0,1]])\n",
    "\n",
    "#predict = net_hopfield.predict(spoiled_reference)\n",
    "net_hopfield.predict(spoiled_reference)\n",
    "\n",
    "print(\"Потребовалось {} итераций.\".format(net_hopfield.iter))\n",
    "print(spoiled_reference, end='')"
   ]
  },
  {
   "cell_type": "code",
   "execution_count": null,
   "metadata": {},
   "outputs": [],
   "source": []
  },
  {
   "cell_type": "code",
   "execution_count": null,
   "metadata": {
    "collapsed": true
   },
   "outputs": [],
   "source": []
  },
  {
   "cell_type": "code",
   "execution_count": 43,
   "metadata": {},
   "outputs": [
    {
     "name": "stdout",
     "output_type": "stream",
     "text": [
      "Потребовалось 20000 итераций.\n",
      "[ 1 -1  1  1]"
     ]
    }
   ],
   "source": [
    "reference1 = np.array([-1,1,-1,1])\n",
    "reference2 = np.array([1,-1,1,1])\n",
    "reference3 = np.array([-1,1,-1,-1])\n",
    "\n",
    "references = np.array([reference1, reference2, reference3])\n",
    "\n",
    "net_hopfield = Hopfield(4)\n",
    "net_hopfield.train(references)\n",
    "\n",
    "spoiled_reference = np.array([1,-1,1,-1])\n",
    "\n",
    "#predict = net_hopfield.predict(spoiled_reference)\n",
    "net_hopfield.predict(spoiled_reference)\n",
    "\n",
    "print(\"Потребовалось {} итераций.\".format(net_hopfield.iter))\n",
    "print(spoiled_reference, end='')"
   ]
  },
  {
   "cell_type": "code",
   "execution_count": 39,
   "metadata": {},
   "outputs": [
    {
     "data": {
      "text/plain": [
       "array([[ 0., -3.,  3.,  1.],\n",
       "       [-3.,  0., -3., -1.],\n",
       "       [ 3., -3.,  0.,  1.],\n",
       "       [ 1., -1.,  1.,  0.]])"
      ]
     },
     "execution_count": 39,
     "metadata": {},
     "output_type": "execute_result"
    }
   ],
   "source": [
    "net_hopfield.weights"
   ]
  },
  {
   "cell_type": "code",
   "execution_count": null,
   "metadata": {
    "collapsed": true
   },
   "outputs": [],
   "source": []
  },
  {
   "cell_type": "code",
   "execution_count": 32,
   "metadata": {
    "scrolled": false
   },
   "outputs": [
    {
     "name": "stdout",
     "output_type": "stream",
     "text": [
      "[[0 1 1 1 1 1 0]\n",
      " [0 1 0 0 0 1 0]\n",
      " [0 1 0 0 0 1 0]\n",
      " [0 1 0 0 0 1 0]\n",
      " [0 1 0 0 0 1 0]\n",
      " [0 1 0 0 0 1 0]\n",
      " [0 1 0 0 0 1 0]]\n",
      "[[0 1 1 1 1 1 0]\n",
      " [0 1 0 0 0 1 0]\n",
      " [0 1 0 0 0 1 0]\n",
      " [0 1 0 0 0 1 0]\n",
      " [0 1 0 0 0 1 0]\n",
      " [0 1 0 0 0 1 0]\n",
      " [0 1 0 0 0 1 0]]\n",
      "[[0 1 1 1 1 1 0]\n",
      " [0 1 0 0 0 1 0]\n",
      " [0 1 0 0 0 1 0]\n",
      " [0 1 0 0 0 1 0]\n",
      " [0 1 0 0 0 1 0]\n",
      " [0 1 0 0 0 1 0]\n",
      " [0 1 0 0 0 1 0]]\n"
     ]
    }
   ],
   "source": [
    "reference1 = np.array([[0,1,1,1,1,1,0],\n",
    "                      [0,1,0,0,0,1,0],\n",
    "                      [0,1,0,0,0,1,0],\n",
    "                      [0,1,0,0,0,1,0],\n",
    "                      [0,1,0,0,0,1,0],\n",
    "                      [0,1,0,0,0,1,0],\n",
    "                      [0,1,0,0,0,1,0]])\n",
    "reference2 = np.array([[0,1,1,1,1,1,0],\n",
    "                      [0,1,0,0,0,1,0],\n",
    "                      [0,1,0,0,0,1,0],\n",
    "                      [0,1,0,0,0,1,0],\n",
    "                      [0,1,0,0,0,1,0],\n",
    "                      [0,1,0,0,0,1,0],\n",
    "                      [0,1,0,0,0,1,0]])\n",
    "reference3 = np.array([[0,1,1,1,1,1,0],\n",
    "                      [0,1,0,0,0,1,0],\n",
    "                      [0,1,0,0,0,1,0],\n",
    "                      [0,1,0,0,0,1,0],\n",
    "                      [0,1,0,0,0,1,0],\n",
    "                      [0,1,0,0,0,1,0],\n",
    "                      [0,1,0,0,0,1,0]])\n",
    "\n",
    "references = np.array([reference1, reference2, reference3])\n",
    "for reference in references:\n",
    "    print(reference)"
   ]
  },
  {
   "cell_type": "code",
   "execution_count": null,
   "metadata": {
    "collapsed": true
   },
   "outputs": [],
   "source": []
  },
  {
   "cell_type": "code",
   "execution_count": 29,
   "metadata": {},
   "outputs": [],
   "source": [
    "# reference1 = np.array([0,1,1,1,1,1,0,\n",
    "#                       0,1,0,0,0,1,0,\n",
    "#                       0,1,0,0,0,1,0,\n",
    "#                       0,1,0,0,0,1,0,\n",
    "#                       0,1,0,0,0,1,0,\n",
    "#                       0,1,0,0,0,1,0,\n",
    "#                       0,1,0,0,0,1,0])\n",
    "# reference2 = np.array([1,1,1,1,1,1,1,\n",
    "#                       0,0,0,1,0,0,0,\n",
    "#                       0,0,0,1,0,0,0,\n",
    "#                       0,0,0,1,0,0,0,\n",
    "#                       0,0,0,1,0,0,0,\n",
    "#                       0,0,0,1,0,0,0,\n",
    "#                       0,0,0,1,0,0,0])\n",
    "# reference3 = np.array([1,0,0,0,0,0,1,\n",
    "#                       1,0,0,0,1,1,0,\n",
    "#                       1,0,0,1,0,0,0,\n",
    "#                       1,1,1,0,0,0,0,\n",
    "#                       1,0,0,1,0,0,0,\n",
    "#                       1,0,0,0,1,1,0,\n",
    "#                       1,0,0,0,0,0,1])\n",
    "\n",
    "reference1 = np.array([[0,1,1,1,1,1,0],\n",
    "                      [0,1,0,0,0,1,0],\n",
    "                      [0,1,0,0,0,1,0],\n",
    "                      [0,1,0,0,0,1,0],\n",
    "                      [0,1,0,0,0,1,0],\n",
    "                      [0,1,0,0,0,1,0],\n",
    "                      [0,1,0,0,0,1,0]])\n",
    "reference2 = np.array([[1,1,1,1,1,1,1],\n",
    "                      [0,0,0,1,0,0,0],\n",
    "                      [0,0,0,1,0,0,0],\n",
    "                      [0,0,0,1,0,0,0],\n",
    "                      [0,0,0,1,0,0,0],\n",
    "                      [0,0,0,1,0,0,0],\n",
    "                      [0,0,0,1,0,0,0]])\n",
    "reference3 = np.array([[1,0,0,0,0,0,1],\n",
    "                      [1,0,0,0,1,1,0],\n",
    "                      [1,0,0,1,0,0,0],\n",
    "                      [1,1,1,0,0,0,0],\n",
    "                      [1,0,0,1,0,0,0],\n",
    "                      [1,0,0,0,1,1,0],\n",
    "                      [1,0,0,0,0,0,1]])\n",
    "\n",
    "references = np.array([reference1, reference2, reference3])\n",
    "\n",
    "net_hopfield = Hopfield(7)\n",
    "net_hopfield.train(references)"
   ]
  },
  {
   "cell_type": "code",
   "execution_count": 31,
   "metadata": {},
   "outputs": [
    {
     "data": {
      "text/plain": [
       "array([[ 0.,  0.,  0.,  0.,  0.,  0.,  1.],\n",
       "       [ 0.,  0.,  0.,  0.,  0.,  1.,  0.],\n",
       "       [ 0.,  0.,  0.,  1.,  0.,  0.,  0.],\n",
       "       [ 0.,  0.,  1.,  0.,  0.,  0.,  0.],\n",
       "       [ 0.,  0.,  0.,  0.,  0.,  0.,  0.],\n",
       "       [ 0.,  1.,  0.,  0.,  0.,  0.,  0.],\n",
       "       [ 1.,  0.,  0.,  0.,  0.,  0.,  0.]])"
      ]
     },
     "execution_count": 31,
     "metadata": {},
     "output_type": "execute_result"
    }
   ],
   "source": [
    "net_hopfield.weights"
   ]
  },
  {
   "cell_type": "code",
   "execution_count": null,
   "metadata": {
    "collapsed": true
   },
   "outputs": [],
   "source": []
  },
  {
   "cell_type": "code",
   "execution_count": null,
   "metadata": {
    "collapsed": true
   },
   "outputs": [],
   "source": []
  },
  {
   "cell_type": "code",
   "execution_count": null,
   "metadata": {
    "collapsed": true
   },
   "outputs": [],
   "source": [
    "spoiled_reference2 = [\n",
    "        1,1,0,0,0,0,0,\n",
    "        1,0,0,0,1,1,0,\n",
    "        1,0,0,1,0,0,0,\n",
    "        0,0,1,0,0,0,0,\n",
    "        1,0,0,1,0,0,0,\n",
    "        1,0,0,0,1,1,0,\n",
    "        1,1,0,0,0,0,1\n",
    "    ]\n",
    "print(spoiled_reference2, end='')"
   ]
  }
 ],
 "metadata": {
  "kernelspec": {
   "display_name": "Python 3",
   "language": "python",
   "name": "python3"
  },
  "language_info": {
   "codemirror_mode": {
    "name": "ipython",
    "version": 3
   },
   "file_extension": ".py",
   "mimetype": "text/x-python",
   "name": "python",
   "nbconvert_exporter": "python",
   "pygments_lexer": "ipython3",
   "version": "3.6.3"
  }
 },
 "nbformat": 4,
 "nbformat_minor": 2
}
