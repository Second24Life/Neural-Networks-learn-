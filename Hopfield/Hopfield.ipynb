{
 "cells": [
  {
   "cell_type": "code",
   "execution_count": 2,
   "metadata": {
    "collapsed": true
   },
   "outputs": [],
   "source": [
    "import random\n",
    "import numpy as np"
   ]
  },
  {
   "cell_type": "code",
   "execution_count": 46,
   "metadata": {
    "collapsed": true
   },
   "outputs": [],
   "source": [
    "class Hopfield:\n",
    "    \n",
    "    def __init__(self, num_neurons):\n",
    "        self.num_neurons = num_neurons \n",
    "        self.weights = np.zeros((num_neurons, num_neurons))\n",
    "        self.sample = []\n",
    "        self.iter = 0\n",
    "        \n",
    "    def feed_forward(self, inputs):\n",
    "        self.sample.append(inputs)\n",
    "        for i in range(0, self.num_neurons):\n",
    "            for j in range(0, self.num_neurons):\n",
    "                if not i == j:\n",
    "                    self.weights[i][j] += inputs[i] * inputs[j]\n",
    "    \n",
    "    def activate(self, num):\n",
    "        if num > 0:\n",
    "            return 1\n",
    "        return -1\n",
    "    \n",
    "    def train(self, inputs):\n",
    "        for i in inputs:\n",
    "            self.feed_forward(i)\n",
    "        \n",
    "    def predict(self, inputs):\n",
    "        while (self.iter < 10000):\n",
    "            for sample in self.sample:\n",
    "                if (inputs == sample).all():\n",
    "                    return inputs\n",
    "            \n",
    "            sum = 0\n",
    "            r = random.choice(range(self.num_neurons))\n",
    "            for i in range(0, self.num_neurons):\n",
    "                sum += self.weights[i][r] * inputs[i]\n",
    "            inputs[r] = self.activate(sum)\n",
    "            \n",
    "            self.iter += 1\n",
    "        return inputs"
   ]
  },
  {
   "cell_type": "code",
   "execution_count": 75,
   "metadata": {},
   "outputs": [
    {
     "name": "stdout",
     "output_type": "stream",
     "text": [
      "Потребовалось 113 итераций.\n",
      "1 0 0 0 0 0 1 \n",
      "1 0 0 0 1 1 0 \n",
      "1 0 0 1 0 0 0 \n",
      "1 1 1 0 0 0 0 \n",
      "1 0 0 1 0 0 0 \n",
      "1 0 0 0 1 1 0 \n",
      "1 0 0 0 0 0 1 \n"
     ]
    }
   ],
   "source": [
    "reference1 = np.array([-1,1,1,1,1,1,-1,\n",
    "                      -1,1,-1,-1,-1,1,-1,\n",
    "                      -1,1,-1,-1,-1,1,-1,\n",
    "                      -1,1,-1,-1,-1,1,-1,\n",
    "                      -1,1,-1,-1,-1,1,-1,\n",
    "                      -1,1,-1,-1,-1,1,-1,\n",
    "                      -1,1,-1,-1,-1,1,-1])\n",
    "reference2 = np.array([1,1,1,1,1,1,1,\n",
    "                      -1,-1,-1,1,-1,-1,-1,\n",
    "                      -1,-1,-1,1,-1,-1,-1,\n",
    "                      -1,-1,-1,1,-1,-1,-1,\n",
    "                      -1,-1,-1,1,-1,-1,-1,\n",
    "                      -1,-1,-1,1,-1,-1,-1,\n",
    "                      -1,-1,-1,1,-1,-1,-1])\n",
    "reference3 = np.array([1,-1,-1,-1,-1,-1,1,\n",
    "                      1,-1,-1,-1,1,1,-1,\n",
    "                      1,-1,-1,1,-1,-1,-1,\n",
    "                      1,1,1,-1,-1,-1,-1,\n",
    "                      1,-1,-1,1,-1,-1,-1,\n",
    "                      1,-1,-1,-1,1,1,-1,\n",
    "                      1,-1,-1,-1,-1,-1,1])\n",
    "\n",
    "references = np.array([reference1, reference2, reference3])\n",
    "num_neurons = len(references[0])\n",
    "\n",
    "net_hopfield = Hopfield(num_neurons)\n",
    "net_hopfield.train(references)\n",
    "\n",
    "spoiled_reference = np.array([1,1,-1,-1,-1,-1,-1,\n",
    "                              1,-1,-1,-1,1,1,-1,\n",
    "                              1,-1,-1,1,-1,-1,-1,\n",
    "                              -1,-1,1,-1,-1,-1,-1,\n",
    "                              1,-1,-1,1,-1,-1,-1,\n",
    "                              1,-1,-1,-1,1,1,-1,\n",
    "                              1,1,-1,-1,-1,-1,1])\n",
    "\n",
    "net_hopfield.predict(spoiled_reference)\n",
    "\n",
    "print(\"Потребовалось {} итераций.\".format(net_hopfield.iter))\n",
    "# print(spoiled_reference, end='')\n",
    "\n",
    "k = 0\n",
    "result = np.zeros((7, 7))\n",
    "for i in range(0, 7):\n",
    "    for j in range(0, 7):\n",
    "        if spoiled_reference[k] == -1:\n",
    "            result[i][j] = 0\n",
    "        else:\n",
    "            result[i][j] = 1\n",
    "        k += 1\n",
    "        \n",
    "for i in range(0, 7):\n",
    "    for j in range(0, 7):\n",
    "        print(int(result[i][j]), end=' ')\n",
    "    print()"
   ]
  },
  {
   "cell_type": "code",
   "execution_count": null,
   "metadata": {
    "collapsed": true
   },
   "outputs": [],
   "source": []
  },
  {
   "cell_type": "code",
   "execution_count": 55,
   "metadata": {},
   "outputs": [
    {
     "name": "stdout",
     "output_type": "stream",
     "text": [
      "Потребовалось 3 итераций.\n",
      "[ 1 -1  1  1]"
     ]
    }
   ],
   "source": [
    "reference1 = np.array([-1,1,-1,1])\n",
    "reference2 = np.array([1,-1,1,1])\n",
    "reference3 = np.array([-1,1,-1,-1])\n",
    "\n",
    "references = np.array([reference1, reference2, reference3])\n",
    "\n",
    "net_hopfield = Hopfield(4)\n",
    "net_hopfield.train(references)\n",
    "\n",
    "spoiled_reference = np.array([1,-1,1,-1])\n",
    "\n",
    "net_hopfield.predict(spoiled_reference)\n",
    "\n",
    "print(\"Потребовалось {} итераций.\".format(net_hopfield.iter))\n",
    "print(spoiled_reference, end='')"
   ]
  },
  {
   "cell_type": "code",
   "execution_count": null,
   "metadata": {
    "collapsed": true
   },
   "outputs": [],
   "source": []
  }
 ],
 "metadata": {
  "kernelspec": {
   "display_name": "Python 3",
   "language": "python",
   "name": "python3"
  },
  "language_info": {
   "codemirror_mode": {
    "name": "ipython",
    "version": 3
   },
   "file_extension": ".py",
   "mimetype": "text/x-python",
   "name": "python",
   "nbconvert_exporter": "python",
   "pygments_lexer": "ipython3",
   "version": "3.6.3"
  }
 },
 "nbformat": 4,
 "nbformat_minor": 2
}
