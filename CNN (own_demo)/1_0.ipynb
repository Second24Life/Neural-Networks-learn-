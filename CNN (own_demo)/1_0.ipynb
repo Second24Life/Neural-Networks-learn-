{
 "cells": [
  {
   "cell_type": "code",
   "execution_count": 1,
   "metadata": {
    "collapsed": true
   },
   "outputs": [],
   "source": [
    "import numpy as np"
   ]
  },
  {
   "cell_type": "markdown",
   "metadata": {},
   "source": [
    "## Свертка"
   ]
  },
  {
   "cell_type": "code",
   "execution_count": 2,
   "metadata": {
    "collapsed": true
   },
   "outputs": [],
   "source": [
    "def create_axis_indexes(size_axis, center_w_l):\n",
    "    coordinates = []\n",
    "    for i in range(-center_w_l, size_axis-center_w_l):\n",
    "        coordinates.append(i)\n",
    "    return coordinates"
   ]
  },
  {
   "cell_type": "code",
   "execution_count": 3,
   "metadata": {
    "collapsed": true
   },
   "outputs": [],
   "source": [
    "def create_indexes(size_axis, center_w_l):\n",
    "    # расчет координат на осях ядра свертки в зависимости от номера центрального элемента ядра\n",
    "    coordinates_a = create_axis_indexes(size_axis=size_axis[0], center_w_l=center_w_l[0])\n",
    "    coordinates_b = create_axis_indexes(size_axis=size_axis[1], center_w_l=center_w_l[1])\n",
    "    return coordinates_a, coordinates_b"
   ]
  },
  {
   "cell_type": "code",
   "execution_count": 4,
   "metadata": {
    "collapsed": true
   },
   "outputs": [],
   "source": [
    "def convolution_feed_x_l(y_l_minus_1, w_l, conv_params):\n",
    "    indexes_a, indexes_b = create_indexes(size_axis=w_l.shape, center_w_l=conv_params['center_w_l'])\n",
    "    stride = conv_params['stride']\n",
    "    \n",
    "    # матрица выхода будет расширяться по мере добавления новых элементов\n",
    "    x_l = np.zeros((1,1))\n",
    "    \n",
    "    # в зависимости от типа операции меняется основная формула функции\n",
    "    if conv_params['convolution']:\n",
    "        g = 1 # операция конволюции\n",
    "    else:\n",
    "        g = -1 # операция корреляции\n",
    "    \n",
    "    # итерация по i и j входной матрицы y_l_minus_1 из предположения, что размерность выходной матрицы x_l будет такой же\n",
    "    for i in range(y_l_minus_1.shape[0]):\n",
    "        for j in range(y_l_minus_1.shape[1]):\n",
    "            demo = np.zeros([y_l_minus_1.shape[0], y_l_minus_1.shape[1]]) # матрица для демонстрации конволюции\n",
    "            result = 0\n",
    "            element_exists = False\n",
    "            \n",
    "            for a in indexes_a:\n",
    "                for b in indexes_b:\n",
    "                    # проверка, чтобы значения индексов не выходили за границы\n",
    "                    if i*stride - g*a >= 0 and j*stride - g*b >= 0 \\\n",
    "                    and i*stride - g*a < y_l_minus_1.shape[0] and j*stride - g*b < y_l_minus_1.shape[1]:\n",
    "                        \n",
    "                        result += y_l_minus_1[i*stride - g*a][j*stride - g*b] * w_l[indexes_a.index(a)][indexes_b.index(b)] # перевод индексов в \"нормальные\" для извлечения элементов из матрицы w_l\n",
    "                        demo[i*stride - g*a][j*stride - g*b] = w_l[indexes_a.index(a)][indexes_b.index(b)]\n",
    "                        element_exists = True\n",
    "            \n",
    "            # запись полученных результатов только в том случае, если для данных i и j были произведены вычисления\n",
    "            if element_exists:\n",
    "                if i >= x_l.shape[0]:\n",
    "                    # добавление строки, если не существует\n",
    "                    x_l = np.vstack((x_l, np.zeros(x_l.shape[1])))\n",
    "                if j >= x_l.shape[1]:\n",
    "                    # добавление столбца, если не существует\n",
    "                    x_l = np.hstack((x_l, np.zeros((x_l.shape[0],1))))\n",
    "                x_l[i][j] = result\n",
    "                \n",
    "                # вывод матрицы demo для отслеживания хода свертки\n",
    "                print('i=' + str(i) + '; j=' + str(j) + '\\n', demo)\n",
    "    return x_l"
   ]
  },
  {
   "cell_type": "code",
   "execution_count": 47,
   "metadata": {
    "collapsed": true
   },
   "outputs": [],
   "source": [
    "#w_l = np.array([\n",
    "#    [1,2,3,4],\n",
    "#    [5,6,7,8],\n",
    "#    [9,10,11,12],\n",
    "#    [13,14,15,16]])\n",
    "\n",
    "#w_l = np.array([\n",
    "#    [1,2,3],\n",
    "#    [4,5,6],\n",
    "#    [7,8,9]])\n",
    "\n",
    "w_l = np.array([\n",
    "    [1,2],\n",
    "    [3,4]])\n",
    "\n",
    "y_l_minus_1 = np.zeros((3,3))\n",
    "\n",
    "other_parameters={\n",
    "    'convolution':True,\n",
    "    'stride':1,\n",
    "    'center_w_l':(1,1)\n",
    "}\n",
    "\n",
    "convolution_feed_x_l(y_l_minus_1, w_l, other_parameters)"
   ]
  },
  {
   "cell_type": "code",
   "execution_count": 3,
   "metadata": {
    "collapsed": true,
    "scrolled": true
   },
   "outputs": [],
   "source": [
    "def function_activation(matrix, kind, feed):\n",
    "    output_matrix = np.copy(matrix)\n",
    "    if feed:\n",
    "        if kind == 'sigmoid':\n",
    "            output_matrix = 1 / (1+np.exp(-output_matrix))\n",
    "        elif kind == 'relu':\n",
    "            output_matrix[output_matrix < 0] = 0\n",
    "        elif kind == 'softmax':\n",
    "            output_matrix = np.exp(output_matrix) / np.exp(output_matrix).sum()\n",
    "    else:\n",
    "        if kind == 'sigmoid':\n",
    "            output_matrix = output_matrix * (1 - output_matrix)\n",
    "        elif kind == 'relu':\n",
    "            output_matrix[output_matrix > 0] = 1\n",
    "        elif kind == 'softmax':\n",
    "            input_matrix = np.copy(matrix)\n",
    "            output_matrix = np.zeros((matrix.shape[1], matrix.shape[1]))\n",
    "            \n",
    "            for i in range(output_matrix.shape[1]):\n",
    "                for j in range(output_matrix.shape[1]):\n",
    "                    if i == j:\n",
    "                        output_matrix[i][i] = input_matrix[0][i] * (1 - input_matrix[0][i])\n",
    "                    else:\n",
    "                        output_matrix[i][j] = - input_matrix[0][i] * input_matrix[0][j]\n",
    "        \n",
    "    return output_matrix"
   ]
  },
  {
   "cell_type": "code",
   "execution_count": null,
   "metadata": {
    "collapsed": true
   },
   "outputs": [],
   "source": [
    "def maxpool(y_l, conv_params):\n",
    "    indexes_a, indexes_b = create_indexes(size_axis=conv_params['window_shape'], center_w_l=conv_params['center_window'])\n",
    "    stride = conv_params['stride']\n",
    "    \n",
    "    # выходные матрицы будут расширяться по мере добавления новых элементов\n",
    "    y_l_mp = np.zeros((1,1)) # матрица y_l после операции макспулинга\n",
    "    y_l_mp_to_y_l = np.zeros((1,1), dtype='<U32')# матрица для backprop через слой макспулинга (внутри матрицы будет храниться текст)\n",
    "    \n",
    "    # в зависимости от типа операции меняется основная формула функции\n",
    "    if conv_params['colvolution']:\n",
    "        g = 1\n",
    "    else:\n",
    "        g = -1\n",
    "        \n",
    "    # итерация по i и j входной матрицы y_l из предположения, что размерность выходной матрицы будет такой же\n",
    "    for i in range(y_l.shape[0]):\n",
    "        for j in range(y_l.shape[1]):\n",
    "            result = -np.inf\n",
    "            element_exists = False\n",
    "            \n",
    "            for a in indexes_a:\n",
    "                for b in indexes_b:\n",
    "                    # проверка, чтобы значения индексов не выходили за границы\n",
    "                    if i*stride - g*a >= 0 and j*stride - g*b >= 0 \\\n",
    "                    and i*stride - g*a < y_l.shape[0] and j*stride - g*b < y_l.shape[1]:\n",
    "                        if (y_l[i*stride - g*a][j*stride - g*b] > result):\n",
    "                            result = y_l[i*stride - g*a][j*stride - g*b]\n",
    "                            i_back = i*stride - g*a\n",
    "                            j_back = j*stride - g*b\n",
    "                        \n",
    "                        element_exists = True\n",
    "            # запись полученных результатов только в том случае, если для данных i и j были произведены вычисления            \n",
    "            if element_exists:\n",
    "                if i >= y_l_mp.shape[0]:\n",
    "                    # добавление строки, если не существует\n",
    "                    y_l_mp = np.vstack((y_l_mp, np.zeros(y_l_mp.shape[1])))\n",
    "                    # матрица y_l_mp_to_y_l расширяется соответственно матрице y_l_mp\n",
    "                    y_l_mp_to_y_l = np.vstack((y_l_mp_to_y_l, np.zeros(y_l_mp_to_y_l.shape[1])))\n",
    "                if j >= y_l_mp.shape[1]:\n",
    "                    # добавление столбца, если не существует\n",
    "                    y_l_mp = np.hstack((y_l_mp, np.zeros((y_l_mp.shape[0],1))))\n",
    "                    y_l_mp_to_y_l = np.hstack((y_l_mp_to_y_l, np.zeros((y_l_mp_to_y_l.shape[0],1))))\n",
    "                    \n",
    "                y_l_mp[i][j] = result\n",
    "                # в матрице y_l_mp_to_y_l хранятся координаты значений,\n",
    "                # которые соответствуют выбранным в операции максипулинга ячейкам из матрицы y_l\n",
    "                y_l_mp_to_y_l[i][j] = str(i_back) + ',' + str(j_back)\n",
    "                \n",
    "    return y_l_mp, y_l_mp_to_y_l"
   ]
  },
  {
   "cell_type": "code",
   "execution_count": null,
   "metadata": {
    "collapsed": true
   },
   "outputs": [],
   "source": [
    "def maxpool_feed(y_l, conv_params):\n",
    "    list_of_y_l_mp = []\n",
    "    list_of_y_l_mp_to_y_l = []\n",
    "    \n",
    "    for i in range(len(y_l)):\n",
    "        y_l_mp, y_l_mp_to_y_l = maxpool(y_l, conv_params)\n",
    "        \n",
    "        list_of_y_l_mp.append(y_l_mp)\n",
    "        list_of_y_l_mp_to_y_l.append(y_l_mp_to_y_l)\n",
    "        \n",
    "    return list_of_y_l_mp, list_of_y_l_mp_to_y_l"
   ]
  },
  {
   "cell_type": "code",
   "execution_count": null,
   "metadata": {
    "collapsed": true
   },
   "outputs": [],
   "source": [
    "def maxpool_back(dEdy_l_mp, y_l_mp_to_y_l, y_l_shape):\n",
    "    list_of_dEdy_l = []\n",
    "    \n",
    "    for i in range(len(dEdy_l_mp)): # операция выполняется для каждой из feature map\n",
    "        dEdy_l = np.zeros(y_l_shape) # матрица dEdy_l будет далее постепенно заполнятся значениями\n",
    "        # проход по всем элементам матрицы dEdy_l_mp\n",
    "        for k in range(dEdy_l_mp[i].shape[0]):\n",
    "            for l in range(dEdy_l_mp[i].shape[1]):\n",
    "                # каждый элемент матрицы dEdy_l_mp необходимо поставить в матрицу dEdy_l\n",
    "                # для этого извлекаем необходимые координаты \"назначения\" из матрицы y_l_mp_to_y_l\n",
    "                coordinates = y_l_mp_to_y_l[i][k][l] # коордианты выглядят так: 2,4 - то есть 2-ая строка и 4-ый столбец\n",
    "                coordinates_row = int(coordinates[:coordinates.find(',')])\n",
    "                coordinates_col = int(coordinates[coordinates.find(',') + 1:])\n",
    "                # запись по этим коордианатам в матрицу dEdy_l элемента из матрицы dEdy_l_mp\n",
    "                dEdy_l[coordinates_row][coordinates_col] = dEdy_l_mp[i][k][l]\n",
    "        list_of_dEdy_l.append(dEdy_l) # добавляем получившуюся dEdy_l в лист с остальными feature map\n",
    "        \n",
    "    return list_of_dEdy_l"
   ]
  },
  {
   "cell_type": "code",
   "execution_count": 2,
   "metadata": {
    "collapsed": true
   },
   "outputs": [],
   "source": [
    "def fc_weights_init(shape, weights_name, dir_npy):\n",
    "    try:\n",
    "        weights_matrix = np.load(dir_npy).get(weights_name)\n",
    "        print('веса для', weights_name, 'подгружены', weights_matrix)\n",
    "    except:\n",
    "        weights_matrix = 2 * np.random.random(shape) - 1\n",
    "        print('веса для', weights_name, 'созданы', weights_matrix.size)\n",
    "    return weights_matrix"
   ]
  },
  {
   "cell_type": "code",
   "execution_count": 1,
   "metadata": {
    "collapsed": true
   },
   "outputs": [],
   "source": [
    "def fc_layer(y_l_minus_1, w_l, w_l_name, b_l, b_l_name, neurons, act_fn, dir_npy, feed):\n",
    "    if w_l.size == 0:\n",
    "        w_l = fc_weights_init(shape=(y_l_minus_1.shape[1], neurons), weights_name=w_l_name, dir_npy=dir_npy)\n",
    "        b_l = fc_weights_init(shape=(1, neurons), weights_name=b_l_name, dir_npy=dir_npy)\n",
    "    x_l = np.dot(y_l_minus_1, w_l) + b_l\n",
    "    y_l = function_activation(x_l, kind=act_fn)\n",
    "    \n",
    "    return x_l, y_l, b_l"
   ]
  },
  {
   "cell_type": "code",
   "execution_count": null,
   "metadata": {
    "collapsed": true
   },
   "outputs": [],
   "source": [
    "def function_loss(y_truth, y_l, feed):\n",
    "    if feed:\n",
    "        error_matrix = - (y_truth * np.log(y_l))\n",
    "    else:\n",
    "        error_matrix = - (y_truth / y_l)\n",
    "        \n",
    "    return error_matrix"
   ]
  },
  {
   "cell_type": "code",
   "execution_count": null,
   "metadata": {
    "collapsed": true
   },
   "outputs": [],
   "source": [
    "def fc_backpropagation(y_l_minus_1, dEdy_l, y_l, w_l, b_l, act_fn, alpha):\n",
    "    # вычисление dE/dx_l, то есть backprop через функцию активации\n",
    "    if act_fn == 'softmax':\n",
    "        dEdx_l = np.dot(dEdy_l, activation_fn(y_l, fn_name=act_fn, feed=False))\n",
    "    else:\n",
    "        dEdx_l = dEdy_l * activation_fn(y_l, fn_name=act_fn, feed=False)\n",
    "    # вычисление частных производных\n",
    "    dEdw_l = np.dot(y_l_minus_1.T, dEdx_l)\n",
    "    dEdb_l = dEdx_l\n",
    "    dEdy_l_minus_1 = np.dot(dEdx_l, w_l.T)\n",
    "    # обновление матриц весов\n",
    "    w_l = w_l - alpha * dEdw_l\n",
    "    b_l = b_l - alpha * dEdb_l\n",
    "    return dEdy_l_minus_1, w_l, b_l"
   ]
  },
  {
   "cell_type": "code",
   "execution_count": null,
   "metadata": {
    "collapsed": true
   },
   "outputs": [],
   "source": []
  }
 ],
 "metadata": {
  "kernelspec": {
   "display_name": "Python 3",
   "language": "python",
   "name": "python3"
  },
  "language_info": {
   "codemirror_mode": {
    "name": "ipython",
    "version": 3
   },
   "file_extension": ".py",
   "mimetype": "text/x-python",
   "name": "python",
   "nbconvert_exporter": "python",
   "pygments_lexer": "ipython3",
   "version": "3.6.3"
  }
 },
 "nbformat": 4,
 "nbformat_minor": 2
}
