{
 "cells": [
  {
   "cell_type": "code",
   "execution_count": 1,
   "metadata": {
    "collapsed": true
   },
   "outputs": [],
   "source": [
    "import random\n",
    "import numpy as np"
   ]
  },
  {
   "cell_type": "code",
   "execution_count": 2,
   "metadata": {
    "collapsed": true
   },
   "outputs": [],
   "source": [
    "class Perceptron:\n",
    "    \n",
    "    def __init__(self, learn_speed, num_input_neurons, num_middle_neurons):\n",
    "        \n",
    "        self.speed = learn_speed\n",
    "        self.num_middle_neurons = num_middle_neurons\n",
    "        \n",
    "        self.weights = np.zeros((num_input_neurons, num_middle_neurons))\n",
    "\n",
    "        for i in range(0, num_input_neurons):\n",
    "            for x in range(0, self.num_middle_neurons):\n",
    "                self.weights[i][x] = random.random()*2-1\n",
    "    \n",
    "    def feed_forward(self, inputs):\n",
    "        sum = 0\n",
    "        \n",
    "        for i in range(0, len(inputs)):\n",
    "            for x in range(0, self.num_middle_neurons):\n",
    "                sum += self.weights[i][x] * inputs[i]\n",
    "            \n",
    "        return self.activate('sigmoid', sum)\n",
    "    \n",
    "    def activate(self, kind, num):        \n",
    "        if kind == 'sigmoid':\n",
    "            sum = 1 / (1+np.exp(-num))\n",
    "        elif kind == 'step':\n",
    "            if num > 0:\n",
    "                return 1\n",
    "            return 0\n",
    "        \n",
    "        return sum\n",
    "    \n",
    "    def train(self, inputs, desired_output):\n",
    "        guess = self.feed_forward(inputs)\n",
    "        error = desired_output - guess\n",
    "        \n",
    "        for i in range(0, len(inputs)):\n",
    "            for x in range(0, self.num_middle_neurons):\n",
    "                self.weights[i][x] += error * inputs[i] * self.speed"
   ]
  },
  {
   "cell_type": "code",
   "execution_count": 5,
   "metadata": {
    "collapsed": true
   },
   "outputs": [],
   "source": [
    "class Trainer():\n",
    "    \n",
    "    def __init__(self):\n",
    "        self.perceptron = Perceptron(0.01, 2, 3)\n",
    "        \n",
    "    def f(self, x):\n",
    "        return 0.5*x + 10\n",
    "    \n",
    "    def train(self):\n",
    "        for x in range(0, 1000000):\n",
    "            x_coord = random.random()*500-250\n",
    "            y_coord = random.random()*500-250\n",
    "            line_y = self.f(x_coord)\n",
    "            \n",
    "            if y_coord > line_y:\n",
    "                answer = 1\n",
    "                self.perceptron.train([x_coord, y_coord], answer)\n",
    "            else:\n",
    "                answer = -1\n",
    "                self.perceptron.train([x_coord, y_coord], answer)\n",
    "        return self.perceptron"
   ]
  },
  {
   "cell_type": "code",
   "execution_count": 6,
   "metadata": {},
   "outputs": [
    {
     "name": "stderr",
     "output_type": "stream",
     "text": [
      "C:\\ProgramData\\Anaconda3\\lib\\site-packages\\ipykernel_launcher.py:25: RuntimeWarning: overflow encountered in exp\n"
     ]
    }
   ],
   "source": [
    "trainer = Trainer()\n",
    "p = trainer.train()"
   ]
  },
  {
   "cell_type": "code",
   "execution_count": 7,
   "metadata": {},
   "outputs": [
    {
     "name": "stdout",
     "output_type": "stream",
     "text": [
      "(-7, 9): 1.0\n",
      "(3, 1): 0.0\n",
      "(5, -2): 0.0\n"
     ]
    },
    {
     "name": "stderr",
     "output_type": "stream",
     "text": [
      "C:\\ProgramData\\Anaconda3\\lib\\site-packages\\ipykernel_launcher.py:25: RuntimeWarning: overflow encountered in exp\n"
     ]
    }
   ],
   "source": [
    "print(\"(-7, 9): {}\".format(p.feed_forward([-7,9])))\n",
    "print(\"(3, 1): {}\".format(p.feed_forward([3,1])))\n",
    "print(\"(5, -2): {}\".format(p.feed_forward([5,-2])))"
   ]
  },
  {
   "cell_type": "code",
   "execution_count": null,
   "metadata": {
    "collapsed": true
   },
   "outputs": [],
   "source": []
  }
 ],
 "metadata": {
  "kernelspec": {
   "display_name": "Python 3",
   "language": "python",
   "name": "python3"
  },
  "language_info": {
   "codemirror_mode": {
    "name": "ipython",
    "version": 3
   },
   "file_extension": ".py",
   "mimetype": "text/x-python",
   "name": "python",
   "nbconvert_exporter": "python",
   "pygments_lexer": "ipython3",
   "version": "3.6.1"
  }
 },
 "nbformat": 4,
 "nbformat_minor": 2
}
