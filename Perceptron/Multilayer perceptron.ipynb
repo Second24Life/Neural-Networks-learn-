{
 "cells": [
  {
   "cell_type": "code",
   "execution_count": 9,
   "metadata": {
    "collapsed": true
   },
   "outputs": [],
   "source": [
    "import random\n",
    "import numpy as np"
   ]
  },
  {
   "cell_type": "code",
   "execution_count": 37,
   "metadata": {
    "collapsed": true
   },
   "outputs": [],
   "source": [
    "class Perceptron:\n",
    "    \n",
    "    def __init__(self, learn_speed, num_input_neurons, num_middle_neurons, num_layers):\n",
    "        \n",
    "        self.speed = learn_speed\n",
    "        self.num_middle_neurons = num_middle_neurons\n",
    "        self.num_layers = num_layers\n",
    "        \n",
    "        self.weights = np.zeros((num_input_neurons, num_middle_neurons))\n",
    "        self.middle_weights = np.zeros((num_layers, num_middle_neurons, num_middle_neurons))\n",
    "        \n",
    "        for i in range(0, num_input_neurons):\n",
    "            for x in range(0, self.num_middle_neurons):\n",
    "                self.weights[i][x] = random.random()*2-1\n",
    "                \n",
    "        for l in range(0, num_layers):\n",
    "            for i in range(0, num_middle_neurons):\n",
    "                for x in range(0, num_middle_neurons):\n",
    "                    self.middle_weights[l][i][x] = random.random()*2-1\n",
    "    \n",
    "    def feed_forward(self, inputs):\n",
    "        sum = 0\n",
    "        sum_middle = np.zeros((3, 1))\n",
    "        \n",
    "#         for i in range(0, len(inputs)):\n",
    "#             for x in range(0, self.num_middle_neurons):\n",
    "#                 sum += self.weights[i][x] * inputs[i]\n",
    "            \n",
    "#         sum = 0\n",
    "        for x in range(0, self.num_middle_neurons):\n",
    "            for i in range(0, len(inputs)):\n",
    "                sum += self.weights[i][x] * inputs[i]\n",
    "            sum_middle[x] = sum\n",
    "            sum = 0\n",
    "        \n",
    "        for l in range(0, self.num_layers):\n",
    "            for i in range(0, self.num_middle_neurons):\n",
    "                for x in range(0, self.num_middle_neurons):\n",
    "                    sum += self.middle_weights[l][i][x] * sum_middle[x]                \n",
    "        \n",
    "        return self.activate('step', sum)\n",
    "    \n",
    "    def activate(self, kind, num):        \n",
    "        if kind == 'sigmoid':\n",
    "            sum = 1 / (1+np.exp(-num))\n",
    "        elif kind == 'step':\n",
    "            if num > 0:\n",
    "                return 1\n",
    "            return 0\n",
    "        \n",
    "        return sum\n",
    "    \n",
    "    def train(self, inputs, desired_output):\n",
    "        guess = self.feed_forward(inputs)\n",
    "        error = desired_output - guess\n",
    "        \n",
    "        for i in range(0, len(inputs)):\n",
    "            for x in range(0, self.num_middle_neurons):\n",
    "                self.weights[i][x] += error * inputs[i] * self.speed"
   ]
  },
  {
   "cell_type": "code",
   "execution_count": 48,
   "metadata": {
    "collapsed": true
   },
   "outputs": [],
   "source": [
    "class Trainer():\n",
    "    \n",
    "    def __init__(self):\n",
    "        self.perceptron = Perceptron(0.01, 2, 3, 2)\n",
    "        \n",
    "    def f(self, x):\n",
    "        return 0.5*x + 10\n",
    "    \n",
    "    def train(self):\n",
    "        for x in range(0, 100000):\n",
    "            x_coord = random.random()*500-250\n",
    "            y_coord = random.random()*500-250\n",
    "            line_y = self.f(x_coord)\n",
    "            \n",
    "            if y_coord > line_y:\n",
    "                answer = 1\n",
    "                self.perceptron.train([x_coord, y_coord], answer)\n",
    "            else:\n",
    "                answer = -1\n",
    "                self.perceptron.train([x_coord, y_coord], answer)\n",
    "                \n",
    "#             if x % 100000 == 0:\n",
    "#                 print(self.perceptron.error)\n",
    "        return self.perceptron"
   ]
  },
  {
   "cell_type": "code",
   "execution_count": 60,
   "metadata": {},
   "outputs": [
    {
     "name": "stdout",
     "output_type": "stream",
     "text": [
      "Wall time: 6.39 s\n"
     ]
    }
   ],
   "source": [
    "%%time\n",
    "trainer = Trainer()\n",
    "p = trainer.train()"
   ]
  },
  {
   "cell_type": "code",
   "execution_count": 61,
   "metadata": {},
   "outputs": [
    {
     "name": "stdout",
     "output_type": "stream",
     "text": [
      "(-7, 9): 1\n",
      "(3, 1): 0\n",
      "(5, -2): 0\n",
      "(0, 11): 1\n",
      "(5, 15): 1\n",
      "(0, -2): 0\n"
     ]
    }
   ],
   "source": [
    "print(\"(-7, 9): {}\".format(p.feed_forward([-7,9])))\n",
    "print(\"(3, 1): {}\".format(p.feed_forward([3,1])))\n",
    "print(\"(5, -2): {}\".format(p.feed_forward([5,-2])))\n",
    "print(\"(0, 11): {}\".format(p.feed_forward([0,11])))\n",
    "print(\"(5, 15): {}\".format(p.feed_forward([5,15])))\n",
    "print(\"(0, -2): {}\".format(p.feed_forward([0,-2])))"
   ]
  },
  {
   "cell_type": "markdown",
   "metadata": {},
   "source": [
    "--------------"
   ]
  },
  {
   "cell_type": "code",
   "execution_count": 8,
   "metadata": {},
   "outputs": [
    {
     "name": "stdout",
     "output_type": "stream",
     "text": [
      "[[-5.94893003]\n",
      " [-8.34179427]\n",
      " [-3.651989  ]] \n",
      " [[ 1.33964255 -3.53518844  0.7388895 ]\n",
      " [-7.28857258 -4.80660583 -4.3908785 ]]\n"
     ]
    }
   ],
   "source": [
    "weights = np.zeros((2, 3))\n",
    "for i in range(0, 2):\n",
    "    for x in range(0, 3):\n",
    "        weights[i][x] = random.random()*2-1\n",
    "\n",
    "inputs = [-7,9]\n",
    "sum = 0\n",
    "sum_middle = np.zeros((3, 1))\n",
    "\n",
    "for x in range(0, 3):\n",
    "    for i in range(0, len(inputs)):\n",
    "        sum += weights[i][x] * inputs[i]\n",
    "    sum_middle[x] = sum\n",
    "    sum = 0\n",
    "    \n",
    "for i in range(0, len(inputs)):\n",
    "    for x in range(0, 3):\n",
    "        weights[i][x] = weights[i][x] * inputs[i]\n",
    "\n",
    "print(sum_middle, '\\n', weights)"
   ]
  },
  {
   "cell_type": "code",
   "execution_count": 40,
   "metadata": {},
   "outputs": [
    {
     "data": {
      "text/plain": [
       "array([[[  0.,   0.,   0.],\n",
       "        [  0.,   0.,   0.],\n",
       "        [  0.,   0.,   0.]],\n",
       "\n",
       "       [[  0.,   0.,   0.],\n",
       "        [  0.,   0.,   0.],\n",
       "        [ 34.,  34.,  34.]]])"
      ]
     },
     "execution_count": 40,
     "metadata": {},
     "output_type": "execute_result"
    }
   ],
   "source": [
    "middle_weights = np.zeros((2, 3, 3))\n",
    "middle_weights[1][2] = 34\n",
    "middle_weights"
   ]
  },
  {
   "cell_type": "code",
   "execution_count": null,
   "metadata": {
    "collapsed": true
   },
   "outputs": [],
   "source": []
  }
 ],
 "metadata": {
  "kernelspec": {
   "display_name": "Python 3",
   "language": "python",
   "name": "python3"
  },
  "language_info": {
   "codemirror_mode": {
    "name": "ipython",
    "version": 3
   },
   "file_extension": ".py",
   "mimetype": "text/x-python",
   "name": "python",
   "nbconvert_exporter": "python",
   "pygments_lexer": "ipython3",
   "version": "3.6.1"
  }
 },
 "nbformat": 4,
 "nbformat_minor": 2
}
